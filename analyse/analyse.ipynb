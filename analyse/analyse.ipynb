{
 "cells": [
  {
   "cell_type": "code",
   "execution_count": 145,
   "metadata": {},
   "outputs": [],
   "source": [
    "import numpy as np\n",
    "from netCDF4 import Dataset as ncdataset\n",
    "import os\n",
    "\n",
    "# 站点实测的数据\n",
    "target = np.load(os.path.abspath(\"../data/2020-station-month/202011.npy\"))\n",
    "# 卫星数据在站点处的数据\n",
    "# result = np.load(os.path.abspath(\"../data/2020-changjiang-month-by-station/2020.npy\"))\n",
    "# 卫星数据经过 singan 降尺度后，在站点处的数据\n",
    "# result = np.load(os.path.abspath(\"../data/result/singan-0101-x10/station/202011.npy\"))\n",
    "# result = np.load(os.path.abspath(\"../data/result/singan-2020-x10/station/202011.npy\"))\n",
    "result = np.load(os.path.abspath(\"../data/result/singan-202001-x10/station/202011.npy\"))\n",
    "\n",
    "# print(target[:10])\n",
    "# print(result[:10])"
   ]
  },
  {
   "cell_type": "code",
   "execution_count": 146,
   "metadata": {},
   "outputs": [
    {
     "name": "stdout",
     "output_type": "stream",
     "text": [
      "CC: 0.8243733139400091\n",
      "BIAS: 22.309030980432137\n",
      "RMSE: 29.738401126317637\n"
     ]
    }
   ],
   "source": [
    "import numpy as np\n",
    "\n",
    "if np.isnan(target).any() or np.isnan(result).any():\n",
    "    print(\"Arrays contain NaN values.\")\n",
    "\n",
    "# 计算相关系数 (CC)\n",
    "cc = np.corrcoef(target, result)[0, 1]\n",
    "\n",
    "# 计算偏差 (BIAS)\n",
    "bias = np.mean(result - target)\n",
    "\n",
    "# 计算均方根误差 (RMSE)\n",
    "rmse = np.sqrt(np.mean((result - target)**2))\n",
    "\n",
    "print(\"CC:\", cc)\n",
    "print(\"BIAS:\", bias)\n",
    "print(\"RMSE:\", rmse)"
   ]
  },
  {
   "cell_type": "code",
   "execution_count": 147,
   "metadata": {},
   "outputs": [
    {
     "name": "stdout",
     "output_type": "stream",
     "text": [
      "召回率: 0.9927641099855282\n",
      "精确度: 0.9884726224783862\n",
      "准确度: 0.9814814814814815\n",
      "FSC: 0.9906137184115523\n"
     ]
    }
   ],
   "source": [
    "def prep_clf(obs, pre, threshold=0.1):\n",
    "    '''\n",
    "    func: 计算二分类结果-混淆矩阵的四个元素\n",
    "    inputs:\n",
    "        obs: 观测值，即真实值；\n",
    "        pre: 预测值；\n",
    "        threshold: 阈值，判别正负样本的阈值,默认0.1,气象上默认格点 >= 0.1才判定存在降水。\n",
    "    \n",
    "    returns:\n",
    "        hits, misses, falsealarms, correctnegatives\n",
    "        #aliases: TP, FN, FP, TN \n",
    "    '''\n",
    "    # 根据阈值分类为 0, 1\n",
    "    obs = np.where(obs >= threshold, 1, 0)\n",
    "    pre = np.where(pre >= threshold, 1, 0)\n",
    "\n",
    "    # True positive (TP)\n",
    "    hits = np.sum((obs == 1) & (pre == 1))\n",
    "\n",
    "    # False negative (FN)\n",
    "    misses = np.sum((obs == 1) & (pre == 0))\n",
    "\n",
    "    # False positive (FP)\n",
    "    falsealarms = np.sum((obs == 0) & (pre == 1))\n",
    "\n",
    "    # True negative (TN)\n",
    "    correctnegatives = np.sum((obs == 0) & (pre == 0))\n",
    "\n",
    "    return hits, misses, falsealarms, correctnegatives\n",
    "\n",
    "\n",
    "def precision(obs, pre, threshold=0.1):\n",
    "    '''\n",
    "    func: 计算精确度precision: TP / (TP + FP)\n",
    "    inputs:\n",
    "        obs: 观测值，即真实值；\n",
    "        pre: 预测值；\n",
    "        threshold: 阈值，判别正负样本的阈值,默认0.1,气象上默认格点 >= 0.1才判定存在降水。\n",
    "    \n",
    "    returns:\n",
    "        dtype: float\n",
    "    '''\n",
    "\n",
    "    TP, FN, FP, TN = prep_clf(obs=obs, pre = pre, threshold=threshold)\n",
    "\n",
    "    return TP / (TP + FP)\n",
    "\n",
    "\n",
    "def recall(obs, pre, threshold=0.1):\n",
    "    '''\n",
    "    func: 计算召回率recall: TP / (TP + FN)\n",
    "    inputs:\n",
    "        obs: 观测值，即真实值；\n",
    "        pre: 预测值；\n",
    "        threshold: 阈值，判别正负样本的阈值,默认0.1,气象上默认格点 >= 0.1才判定存在降水。\n",
    "    \n",
    "    returns:\n",
    "        dtype: float\n",
    "    '''\n",
    "\n",
    "    TP, FN, FP, TN = prep_clf(obs=obs, pre = pre, threshold=threshold)\n",
    "\n",
    "    return TP / (TP + FN)\n",
    "\n",
    "\n",
    "def ACC(obs, pre, threshold=0.1):\n",
    "    '''\n",
    "    func: 计算准确度Accuracy: (TP + TN) / (TP + TN + FP + FN)\n",
    "    inputs:\n",
    "        obs: 观测值，即真实值；\n",
    "        pre: 预测值；\n",
    "        threshold: 阈值，判别正负样本的阈值,默认0.1,气象上默认格点 >= 0.1才判定存在降水。\n",
    "    \n",
    "    returns:\n",
    "        dtype: float\n",
    "    '''\n",
    "\n",
    "    TP, FN, FP, TN = prep_clf(obs=obs, pre = pre, threshold=threshold)\n",
    "\n",
    "    return (TP + TN) / (TP + TN + FP + FN)\n",
    "\n",
    "def FSC(obs, pre, threshold=0.1):\n",
    "    '''\n",
    "    func:计算f1 score = 2 * ((precision * recall) / (precision + recall))\n",
    "    '''\n",
    "    precision_socre = precision(obs, pre, threshold=threshold)\n",
    "    recall_score = recall(obs, pre, threshold=threshold)\n",
    "\n",
    "    return 2 * ((precision_socre * recall_score) / (precision_socre + recall_score))\n",
    "\n",
    "recallValue = recall(target, result, 0.1)\n",
    "print(\"召回率: {}\".format(recallValue))\n",
    "precisionValue = precision(target, result, 0.1)\n",
    "print(\"精确度: {}\".format(precisionValue))\n",
    "ACCValue = ACC(target, result, 0.1)\n",
    "print(\"准确度: {}\".format(ACCValue))\n",
    "FSCValue = FSC(target, result, 0.1)\n",
    "print(\"FSC: {}\".format(FSCValue))"
   ]
  },
  {
   "cell_type": "code",
   "execution_count": 148,
   "metadata": {},
   "outputs": [
    {
     "name": "stdout",
     "output_type": "stream",
     "text": [
      "0.9814020028612304\n"
     ]
    }
   ],
   "source": [
    "def TS(obs, pre, threshold=0.1):\n",
    "    \n",
    "    '''\n",
    "    func: 计算TS评分: TS = hits/(hits + falsealarms + misses) \n",
    "    \t  alias: TP/(TP+FP+FN)\n",
    "    inputs:\n",
    "        obs: 观测值，即真实值；\n",
    "        pre: 预测值；\n",
    "        threshold: 阈值，判别正负样本的阈值,默认0.1,气象上默认格点 >= 0.1才判定存在降水。\n",
    "    returns:\n",
    "        dtype: float\n",
    "    '''\n",
    "\n",
    "    hits, misses, falsealarms, correctnegatives = prep_clf(obs=obs, pre = pre, threshold=threshold)\n",
    "\n",
    "    return hits/(hits + falsealarms + misses) \n",
    "\n",
    "TSValue = TS(target, result, 0.1)\n",
    "print(TSValue)"
   ]
  },
  {
   "cell_type": "code",
   "execution_count": 149,
   "metadata": {},
   "outputs": [
    {
     "name": "stdout",
     "output_type": "stream",
     "text": [
      "0.1810839913854992\n"
     ]
    }
   ],
   "source": [
    "def ETS(obs, pre, threshold=0.1):\n",
    "    '''\n",
    "    ETS - Equitable Threat Score\n",
    "    details in the paper:\n",
    "    Winterrath, T., & Rosenow, W. (2007). A new module for the tracking of\n",
    "    radar-derived precipitation with model-derived winds.\n",
    "    Advances in Geosciences,10, 77–83. https://doi.org/10.5194/adgeo-10-77-2007\n",
    "    Args:\n",
    "        obs (numpy.ndarray): observations\n",
    "        pre (numpy.ndarray): prediction\n",
    "        threshold (float)  : threshold for rainfall values binaryzation\n",
    "                             (rain/no rain)\n",
    "    Returns:\n",
    "        float: ETS value\n",
    "    '''\n",
    "    hits, misses, falsealarms, correctnegatives = prep_clf(obs=obs, pre = pre,\n",
    "                                                           threshold=threshold)\n",
    "    num = (hits + falsealarms) * (hits + misses)\n",
    "    den = hits + misses + falsealarms + correctnegatives\n",
    "    Dr = num / den\n",
    "\n",
    "    ETS = (hits - Dr) / (hits + misses + falsealarms - Dr)\n",
    "\n",
    "    return ETS\n",
    "\n",
    "ETSValue = ETS(target, result, 0.1)\n",
    "print(ETSValue)"
   ]
  },
  {
   "cell_type": "code",
   "execution_count": 150,
   "metadata": {},
   "outputs": [
    {
     "name": "stdout",
     "output_type": "stream",
     "text": [
      "0.011527377521613832\n"
     ]
    }
   ],
   "source": [
    "def FAR(obs, pre, threshold=0.1):\n",
    "    '''\n",
    "    func: 计算误警率。falsealarms / (hits + falsealarms) \n",
    "    FAR - false alarm rate\n",
    "    Args:\n",
    "        obs (numpy.ndarray): observations\n",
    "        pre (numpy.ndarray): prediction\n",
    "        threshold (float)  : threshold for rainfall values binaryzation\n",
    "                             (rain/no rain)\n",
    "    Returns:\n",
    "        float: FAR value\n",
    "    '''\n",
    "    hits, misses, falsealarms, correctnegatives = prep_clf(obs=obs, pre = pre,\n",
    "                                                           threshold=threshold)\n",
    "\n",
    "    return falsealarms / (hits + falsealarms)\n",
    "\n",
    "FARValue = FAR(target, result, 0.1)\n",
    "print(FARValue)"
   ]
  },
  {
   "cell_type": "code",
   "execution_count": 151,
   "metadata": {},
   "outputs": [
    {
     "name": "stdout",
     "output_type": "stream",
     "text": [
      "0.00723589001447178\n"
     ]
    }
   ],
   "source": [
    "def MAR(obs, pre, threshold=0.1):\n",
    "    '''\n",
    "    func : 计算漏报率 misses / (hits + misses)\n",
    "    MAR - Missing Alarm Rate\n",
    "    Args:\n",
    "        obs (numpy.ndarray): observations\n",
    "        pre (numpy.ndarray): prediction\n",
    "        threshold (float)  : threshold for rainfall values binaryzation\n",
    "                             (rain/no rain)\n",
    "    Returns:\n",
    "        float: MAR value\n",
    "    '''\n",
    "    hits, misses, falsealarms, correctnegatives = prep_clf(obs=obs, pre = pre,\n",
    "                                                           threshold=threshold)\n",
    "\n",
    "    return misses / (hits + misses)\n",
    "\n",
    "MARValue = MAR(target, result)\n",
    "print(MARValue)"
   ]
  },
  {
   "cell_type": "code",
   "execution_count": 152,
   "metadata": {},
   "outputs": [
    {
     "name": "stdout",
     "output_type": "stream",
     "text": [
      "0.9927641099855282\n"
     ]
    }
   ],
   "source": [
    "def POD(obs, pre, threshold=0.1):\n",
    "    '''\n",
    "    func : 计算命中率 hits / (hits + misses)\n",
    "    pod - Probability of Detection\n",
    "    Args:\n",
    "        obs (numpy.ndarray): observations\n",
    "        pre (numpy.ndarray): prediction\n",
    "        threshold (float)  : threshold for rainfall values binaryzation\n",
    "                             (rain/no rain)\n",
    "    Returns:\n",
    "        float: PDO value\n",
    "    '''\n",
    "    hits, misses, falsealarms, correctnegatives = prep_clf(obs=obs, pre = pre,\n",
    "                                                           threshold=threshold)\n",
    "\n",
    "    return hits / (hits + misses)\n",
    "\n",
    "PODValue = POD(target, result)\n",
    "print(PODValue)"
   ]
  },
  {
   "cell_type": "code",
   "execution_count": 153,
   "metadata": {},
   "outputs": [
    {
     "name": "stdout",
     "output_type": "stream",
     "text": [
      "1.004341534008683\n"
     ]
    }
   ],
   "source": [
    "def BIAS(obs, pre, threshold = 0.1):\n",
    "    '''\n",
    "    func: 计算Bias评分: Bias =  (hits + falsealarms)/(hits + misses) \n",
    "    \t  alias: (TP + FP)/(TP + FN)\n",
    "    inputs:\n",
    "        obs: 观测值，即真实值；\n",
    "        pre: 预测值；\n",
    "        threshold: 阈值，判别正负样本的阈值,默认0.1,气象上默认格点 >= 0.1才判定存在降水。\n",
    "    returns:\n",
    "        dtype: float\n",
    "    '''    \n",
    "    hits, misses, falsealarms, correctnegatives = prep_clf(obs=obs, pre = pre,\n",
    "                                                           threshold=threshold)\n",
    "\n",
    "    return (hits + falsealarms) / (hits + misses)\n",
    "\n",
    "BIASValue = BIAS(target, result)\n",
    "print(BIASValue)"
   ]
  },
  {
   "cell_type": "code",
   "execution_count": 154,
   "metadata": {},
   "outputs": [
    {
     "name": "stdout",
     "output_type": "stream",
     "text": [
      "0.3066403282175961\n"
     ]
    }
   ],
   "source": [
    "def HSS(obs, pre, threshold=0.1):\n",
    "    '''\n",
    "    HSS - Heidke skill score\n",
    "    Args:\n",
    "        obs (numpy.ndarray): observations\n",
    "        pre (numpy.ndarray): pre\n",
    "        threshold (float)  : threshold for rainfall values binaryzation\n",
    "                             (rain/no rain)\n",
    "    Returns:\n",
    "        float: HSS value\n",
    "    '''\n",
    "    hits, misses, falsealarms, correctnegatives = prep_clf(obs=obs, pre = pre,\n",
    "                                                           threshold=threshold)\n",
    "\n",
    "    HSS_num = 2 * (hits * correctnegatives - misses * falsealarms)\n",
    "    HSS_den = (misses**2 + falsealarms**2 + 2*hits*correctnegatives +\n",
    "               (misses + falsealarms)*(hits + correctnegatives))\n",
    "\n",
    "    return HSS_num / HSS_den\n",
    "\n",
    "HSSValue = HSS(target, result)\n",
    "print(HSSValue)"
   ]
  },
  {
   "cell_type": "code",
   "execution_count": 155,
   "metadata": {},
   "outputs": [
    {
     "name": "stdout",
     "output_type": "stream",
     "text": [
      "0.13608276348795434\n"
     ]
    }
   ],
   "source": [
    "def BSS(obs, pre, threshold=0.1):\n",
    "    '''\n",
    "    BSS - Brier skill score\n",
    "    Args:\n",
    "        obs (numpy.ndarray): observations\n",
    "        pre (numpy.ndarray): prediction\n",
    "        threshold (float)  : threshold for rainfall values binaryzation\n",
    "                             (rain/no rain)\n",
    "    Returns:\n",
    "        float: BSS value\n",
    "    '''\n",
    "    obs = np.where(obs >= threshold, 1, 0)\n",
    "    pre = np.where(pre >= threshold, 1, 0)\n",
    "\n",
    "    obs = obs.flatten()\n",
    "    pre = pre.flatten()\n",
    "\n",
    "    return np.sqrt(np.mean((obs - pre) ** 2))\n",
    "\n",
    "BSSValue = BSS(target, result)\n",
    "print(BSSValue)"
   ]
  },
  {
   "cell_type": "code",
   "execution_count": 156,
   "metadata": {},
   "outputs": [
    {
     "name": "stdout",
     "output_type": "stream",
     "text": [
      "0.0\n"
     ]
    }
   ],
   "source": [
    "def MAE(obs, pre):\n",
    "    \"\"\"\n",
    "    Mean absolute error\n",
    "    Args:\n",
    "        obs (numpy.ndarray): observations\n",
    "        pre (numpy.ndarray): prediction\n",
    "    Returns:\n",
    "        float: mean absolute error between observed and simulated values\n",
    "    \"\"\"\n",
    "    obs = pre.flatten()\n",
    "    pre = pre.flatten()\n",
    "\n",
    "    return np.mean(np.abs(pre - obs))\n",
    "\n",
    "MAEValue = MAE(target, result)\n",
    "print(MAEValue)"
   ]
  },
  {
   "cell_type": "code",
   "execution_count": 157,
   "metadata": {},
   "outputs": [
    {
     "name": "stdout",
     "output_type": "stream",
     "text": [
      "29.738401126317637\n"
     ]
    }
   ],
   "source": [
    "def RMSE(obs, pre):\n",
    "    \"\"\"\n",
    "    Root mean squared error\n",
    "    Args:\n",
    "        obs (numpy.ndarray): observations\n",
    "        pre (numpy.ndarray): prediction\n",
    "    Returns:\n",
    "        float: root mean squared error between observed and simulated values\n",
    "    \"\"\"\n",
    "    obs = obs.flatten()\n",
    "    pre = pre.flatten()\n",
    "\n",
    "    return np.sqrt(np.mean((obs - pre) ** 2))\n",
    "\n",
    "RMSEValue = RMSE(target, result)\n",
    "print(RMSEValue)"
   ]
  }
 ],
 "metadata": {
  "kernelspec": {
   "display_name": "base",
   "language": "python",
   "name": "python3"
  },
  "language_info": {
   "codemirror_mode": {
    "name": "ipython",
    "version": 3
   },
   "file_extension": ".py",
   "mimetype": "text/x-python",
   "name": "python",
   "nbconvert_exporter": "python",
   "pygments_lexer": "ipython3",
   "version": "3.8.18"
  }
 },
 "nbformat": 4,
 "nbformat_minor": 2
}
